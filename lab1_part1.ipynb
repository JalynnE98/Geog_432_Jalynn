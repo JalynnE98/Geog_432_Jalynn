{
 "cells": [
  {
   "cell_type": "code",
   "execution_count": 4,
   "metadata": {},
   "outputs": [
    {
     "data": {
      "text/plain": [
       "'GIScience'"
      ]
     },
     "execution_count": 4,
     "metadata": {},
     "output_type": "execute_result"
    }
   ],
   "source": [
    "x = \"Learning GIScience is awesome!\"\n",
    "x[9:-12]"
   ]
  },
  {
   "cell_type": "code",
   "execution_count": 14,
   "metadata": {},
   "outputs": [
    {
     "name": "stdout",
     "output_type": "stream",
     "text": [
      "0 is odd\n",
      "5 is even\n",
      "10 is odd\n",
      "15 is even\n",
      "20 is odd\n",
      "25 is even\n",
      "30 is odd\n",
      "35 is even\n",
      "40 is odd\n",
      "45 is even\n",
      "50 is odd\n",
      "55 is even\n",
      "60 is odd\n",
      "65 is even\n",
      "70 is odd\n",
      "75 is even\n",
      "80 is odd\n",
      "85 is even\n",
      "90 is odd\n",
      "95 is even\n",
      "100 is odd\n"
     ]
    }
   ],
   "source": [
    "for n in range(0,101,5):\n",
    "    if(n % 2 ==0):\n",
    "        print(n, \"is odd\")\n",
    "    else:\n",
    "        print(n, \"is even\")"
   ]
  },
  {
   "cell_type": "code",
   "execution_count": 49,
   "metadata": {},
   "outputs": [
    {
     "name": "stdout",
     "output_type": "stream",
     "text": [
      "1615.5\n",
      "101\n",
      "230.78571428571428\n",
      "15.0\n",
      "3\n",
      "3\n"
     ]
    }
   ],
   "source": [
    "array = (7, 24.5, 99, 101, 256, 128, 1000)\n",
    "nextArray = (1, 2, 3, 4, 5)\n",
    "import math\n",
    "import statistics\n",
    "firstSum = math.fsum(array)\n",
    "firstMedian = statistics.median(array)\n",
    "firstMean = statistics.mean(array)\n",
    "secondSum = math.fsum(nextArray)\n",
    "secondMedian = statistics.median(nextArray)\n",
    "secondMean = statistics.mean(nextArray)\n",
    "print(firstSum)\n",
    "print(firstMedian)\n",
    "print(firstMean)\n",
    "print(secondSum)\n",
    "print(secondMedian)\n",
    "print(secondMean)\n"
   ]
  },
  {
   "cell_type": "code",
   "execution_count": 54,
   "metadata": {
    "scrolled": true
   },
   "outputs": [
    {
     "ename": "FileNotFoundError",
     "evalue": "[Errno 2] No such file or directory: 'lab01textsample.txt'",
     "output_type": "error",
     "traceback": [
      "\u001b[1;31m---------------------------------------------------------------------------\u001b[0m",
      "\u001b[1;31mFileNotFoundError\u001b[0m                         Traceback (most recent call last)",
      "\u001b[1;32m<ipython-input-54-d04ee92c1345>\u001b[0m in \u001b[0;36m<module>\u001b[1;34m\u001b[0m\n\u001b[1;32m----> 1\u001b[1;33m \u001b[0mlab_file\u001b[0m \u001b[1;33m=\u001b[0m \u001b[0mopen\u001b[0m\u001b[1;33m(\u001b[0m\u001b[1;34m\"lab01textsample.txt\"\u001b[0m\u001b[1;33m)\u001b[0m\u001b[1;33m\u001b[0m\u001b[1;33m\u001b[0m\u001b[0m\n\u001b[0m\u001b[0;32m      2\u001b[0m \u001b[0mprint\u001b[0m\u001b[1;33m(\u001b[0m\u001b[0mlab_file\u001b[0m\u001b[1;33m.\u001b[0m\u001b[0mread\u001b[0m\u001b[1;33m)\u001b[0m\u001b[1;33m\u001b[0m\u001b[1;33m\u001b[0m\u001b[0m\n\u001b[0;32m      3\u001b[0m \u001b[0mlab_file\u001b[0m\u001b[1;33m.\u001b[0m\u001b[0mclose\u001b[0m\u001b[1;33m\u001b[0m\u001b[1;33m\u001b[0m\u001b[0m\n",
      "\u001b[1;31mFileNotFoundError\u001b[0m: [Errno 2] No such file or directory: 'lab01textsample.txt'"
     ]
    }
   ],
   "source": [
    "\n",
    "lab_file = open(\"lab01textsample.txt\")\n",
    "print(lab_file.read)\n",
    "lab_file.close"
   ]
  },
  {
   "cell_type": "code",
   "execution_count": null,
   "metadata": {},
   "outputs": [],
   "source": []
  }
 ],
 "metadata": {
  "kernelspec": {
   "display_name": "Python 3",
   "language": "python",
   "name": "python3"
  },
  "language_info": {
   "codemirror_mode": {
    "name": "ipython",
    "version": 3
   },
   "file_extension": ".py",
   "mimetype": "text/x-python",
   "name": "python",
   "nbconvert_exporter": "python",
   "pygments_lexer": "ipython3",
   "version": "3.8.5"
  }
 },
 "nbformat": 4,
 "nbformat_minor": 4
}
